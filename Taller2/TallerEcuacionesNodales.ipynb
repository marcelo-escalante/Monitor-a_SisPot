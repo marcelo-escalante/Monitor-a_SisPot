{
 "cells": [
  {
   "cell_type": "markdown",
   "id": "ab3dc3e3-0006-4006-949f-9d1ab1f63ac6",
   "metadata": {},
   "source": [
    "# Taller Ecuaciones Nodales"
   ]
  },
  {
   "cell_type": "code",
   "execution_count": 2,
   "id": "d6abfdd6-3864-451c-8ee2-abdc210d56e8",
   "metadata": {},
   "outputs": [],
   "source": [
    "import numpy as np\n",
    "from numpy import pi"
   ]
  },
  {
   "cell_type": "code",
   "execution_count": 5,
   "id": "87f6bce6-f735-41e4-bf76-b94c3ad330a8",
   "metadata": {},
   "outputs": [
    {
     "name": "stdout",
     "output_type": "stream",
     "text": [
      "[1.03      +0.j         0.96414213-0.10644228j 1.00925555-0.03877169j\n",
      " 0.94744875-0.06957629j 0.9792387 -0.10637937j]\n"
     ]
    }
   ],
   "source": [
    "zl = 0.0021+0.005j\n",
    "Bc = 0.0008j\n",
    "\n",
    "v1, v2, v3, v4, v5 = 1.03, 0.97, 1.01, 0.95, 0.985\n",
    "v = np.array([v1, v2, v3, v4, v5])\n",
    "ang = np.array([0, -6.3, -2.2, -4.2, -6.2])*pi/180\n",
    "ang1, ang2, ang3, ang4, ang5 = ang[0], ang[1], ang[2], ang[3], ang[4]\n",
    "\n",
    "e = v*np.exp(1j*ang)\n",
    "print(e)"
   ]
  },
  {
   "cell_type": "markdown",
   "id": "a4b579f2-67b2-4d95-94be-f22592d75e84",
   "metadata": {},
   "source": [
    "## Punto 1"
   ]
  },
  {
   "cell_type": "code",
   "execution_count": 15,
   "id": "623395b9-b03e-4cc3-b69a-ed57b9716083",
   "metadata": {},
   "outputs": [
    {
     "name": "stdout",
     "output_type": "stream",
     "text": [
      "Matriz de admitancia\n",
      "[[ 1.83127367-4.2061754j  -0.49244334+1.17248414j -0.44627678+1.06256375j\n",
      "   0.        +0.j         -0.89255355+2.12512751j]\n",
      " [-0.49244334+1.17248414j  0.95311614-2.14932415j  0.        +0.j\n",
      "  -0.4606728 +1.09684j     0.        +0.j        ]\n",
      " [-0.44627678+1.06256375j  0.        +0.j          0.86630198-1.93062376j\n",
      "  -0.4200252 +1.00006j     0.        +0.j        ]\n",
      " [ 0.        +0.j         -0.4606728 +1.09684j    -0.4200252 +1.00006j\n",
      "   1.46597902-3.31162624j -0.58528102+1.39352623j]\n",
      " [-0.89255355+2.12512751j  0.        +0.j          0.        +0.j\n",
      "  -0.58528102+1.39352623j  1.47783457-3.43785374j]]\n",
      "\n"
     ]
    }
   ],
   "source": [
    "y12, y13, y14, y15 = 1/(zl*145), 1/(zl*160), 0, 1/(zl*80)\n",
    "\n",
    "y21, y23, y24, y25 = y12, 0, 1/(zl*155), 0\n",
    "\n",
    "y31, y32, y34, y35 = y13, y23, 1/(zl*170), 0\n",
    "\n",
    "y41, y42, y43, y45 = y14, y24, y34, 1/(zl*122)\n",
    "\n",
    "y51, y52, y53, y54 = y15, y25, y35, y45\n",
    "\n",
    "B1 = 1/2*Bc*(160+80+145)\n",
    "B2 = 1/2*Bc*(155+145)\n",
    "B3 = 1/2*Bc*(160+170)\n",
    "B4 = 1/2*Bc*(170+122+155)\n",
    "B5 = 1/2*Bc*(80+122)\n",
    "B = [B1,B2,B3,B4,B5]\n",
    "\n",
    "Y = np.array([[B1+y12+y13+y14+y15, -y12, -y13, -y14, -y15],\n",
    "              [-y21, B2+y21+y23+y24+y25, -y23, -y24, -y25],\n",
    "              [-y31, -y32, B3+y31+y32+y34+y35, -y34, -y35],\n",
    "              [-y41, -y42, -y43, B4+y41+y42+y43+y45, -y45],\n",
    "              [-y51, -y52, -y53, -y54, B5+y51+y52+y53+y54]])\n",
    "\n",
    "print(\"Matriz de admitancia\")\n",
    "print(Y)\n",
    "print()"
   ]
  },
  {
   "cell_type": "markdown",
   "id": "464ab51c-3f15-4eb8-a4b3-1bebd5693d24",
   "metadata": {},
   "source": [
    "## Punto 2"
   ]
  },
  {
   "cell_type": "code",
   "execution_count": 16,
   "id": "44cdfe0a-4fea-4b7f-b0fe-4f58bc729e3d",
   "metadata": {},
   "outputs": [
    {
     "name": "stdout",
     "output_type": "stream",
     "text": [
      "Matriz de impedancia\n",
      "[[ 0.06396085-1.35604078j -0.01391001-1.53480788j -0.02102501-1.55028071j\n",
      "  -0.03590804-1.58370993j  0.0125605 -1.47510378j]\n",
      " [-0.01391001-1.53480788j  0.12429621-1.22117085j -0.05574281-1.62569161j\n",
      "  -0.01732672-1.54247979j -0.02867991-1.56822284j]\n",
      " [-0.02102501-1.55028071j -0.05574281-1.62569161j  0.1299554 -1.210372j\n",
      "  -0.02417134-1.55729124j -0.03595656-1.58367572j]\n",
      " [-0.03590804-1.58370993j -0.01732672-1.54247979j -0.02417134-1.55729124j\n",
      "   0.06439672-1.35563236j -0.00884247-1.52303942j]\n",
      " [ 0.0125605 -1.47510378j -0.02867991-1.56822284j -0.03595656-1.58367572j\n",
      "  -0.00884247-1.52303942j  0.09696252-1.27825042j]]\n",
      "\n"
     ]
    }
   ],
   "source": [
    "Z = np.linalg.inv(Y)\n",
    "\n",
    "print(\"Matriz de impedancia\")\n",
    "print(Z)\n",
    "print()"
   ]
  },
  {
   "cell_type": "markdown",
   "id": "c4a7f18c-4f60-4db4-8154-4ffa577e390a",
   "metadata": {},
   "source": [
    "## Punto 3"
   ]
  },
  {
   "cell_type": "code",
   "execution_count": 32,
   "id": "54c1b5bd-c3c3-4a04-9edc-e513c71f0982",
   "metadata": {},
   "outputs": [
    {
     "name": "stdout",
     "output_type": "stream",
     "text": [
      "Corrientes netas inyectadas (magnitud, ángulo)\n",
      "0.4929 ∠ 13.629°\n",
      "0.2061 ∠ 149.3°\n",
      "0.08982 ∠ 82.689°\n",
      "0.3201 ∠ 86.221°\n",
      "0.2966 ∠ 174.93°\n",
      "\n"
     ]
    }
   ],
   "source": [
    "IN = Y @ e\n",
    "#Corrientes netas inyectadas\n",
    "print(\"Corrientes netas inyectadas (magnitud, ángulo)\")\n",
    "for i in IN:\n",
    "    print(\"{:.4} ∠ {:.5}°\".format(abs(i),np.angle(i)*180/pi))\n",
    "print()"
   ]
  },
  {
   "cell_type": "markdown",
   "id": "f3b25e51-6746-451a-a435-f9d38c91d92b",
   "metadata": {},
   "source": [
    "## Punto 4"
   ]
  },
  {
   "cell_type": "code",
   "execution_count": 45,
   "id": "83210c52-2f31-4712-89d1-9410399040dd",
   "metadata": {},
   "outputs": [
    {
     "name": "stdout",
     "output_type": "stream",
     "text": [
      "0.4934-0.1196j\n",
      "-0.1820-0.0826j\n",
      "0.0081-0.0904j\n",
      "-0.0022-0.3041j\n",
      "-0.2921+0.0058j\n",
      "\n"
     ]
    }
   ],
   "source": [
    "def Pn(v,Y,i):\n",
    "    return v[i-1]*sum([abs(Y[i-1,k])*v[k]*cos(np.angle(Y[i-1,k])-ang[i-1]+ang[k]) for k in range(len(v))])\n",
    "\n",
    "def Qn(v,Y,i):\n",
    "    return -v[i-1]*sum([abs(Y[i-1,k])*v[k]*sin(np.angle(Y[i-1,k])-ang[i-1]+ang[k]) for k in range(len(v))])\n",
    "\n",
    "P = np.array([Pn(v,Y,i) for i in range(1,6)])\n",
    "Q = np.array([Qn(v,Y,i) for i in range(1,6)])\n",
    "\n",
    "SN = P+Q*1j\n",
    "\n",
    "for i in SN:\n",
    "    print(\"{:.4f}\".format(i))\n",
    "print()"
   ]
  },
  {
   "cell_type": "markdown",
   "id": "f27afe9f-23b2-4137-9ae8-3b11514a14c8",
   "metadata": {},
   "source": [
    "## Punto 5"
   ]
  },
  {
   "cell_type": "code",
   "execution_count": 64,
   "id": "45efbf92-8e4e-475b-b430-a44b7fcec32a",
   "metadata": {},
   "outputs": [
    {
     "name": "stdout",
     "output_type": "stream",
     "text": [
      "Potencias de transferencia\n",
      "\n",
      "S_10: -0.1634j\n",
      "S_12: (0.162+0.0255j)\n",
      "S_13: (0.052+0.0049j)\n",
      "S_15: (0.2795+0.0133j)\n",
      "\n",
      "S_20: -0.1129j\n",
      "S_21: (-0.1542-0.0072j)\n",
      "S_24: (-0.0278+0.0375j)\n",
      "\n",
      "S_30: -0.1347j\n",
      "S_31: (-0.0511-0.0028j)\n",
      "S_34: (0.0592+0.0471j)\n",
      "\n",
      "S_40: -0.1614j\n",
      "S_42: (0.0286-0.0357j)\n",
      "S_43: (-0.0572-0.0424j)\n",
      "S_45: (0.0264-0.0647j)\n",
      "\n",
      "S_50: -0.0784j\n",
      "S_51: (-0.2671+0.0162j)\n",
      "S_54: (-0.025+0.0679j)\n",
      "\n"
     ]
    }
   ],
   "source": [
    "I_ik = np.array([[(e[i]-e[k])*-Y[i,k] for k in range(5)] for i in range(5)])\n",
    "\n",
    "I_t = e * B\n",
    "\n",
    "S_ik = (e * np.conjugate(I_ik.T)).T\n",
    "\n",
    "S_t = e * np.conjugate(I_t)\n",
    "\n",
    "print(\"Potencias de transferencia\")\n",
    "print()\n",
    "for i in range(1,6):\n",
    "    print(\"S_\"+str(i)+str(0)+\":\", round(S_t[i-1].real,4) + round(S_t[i-1].imag,4)*1j)\n",
    "    for k in range(1,6):\n",
    "        if i!=k and (np.abs(S_ik[i-1,k-1]) > 0.00001):\n",
    "            print(\"S_\"+str(i)+str(k)+\":\", round(S_ik[i-1,k-1].real,4) + round(S_ik[i-1,k-1].imag,4)*1j)\n",
    "\n",
    "    print()"
   ]
  },
  {
   "cell_type": "markdown",
   "id": "a1d0bfa5-cbbd-41c1-be85-5453aa89c538",
   "metadata": {},
   "source": [
    "## Punto 6"
   ]
  },
  {
   "cell_type": "code",
   "execution_count": 7,
   "id": "f2d49124-cd3a-4a9f-a28b-4fdac34ff2ee",
   "metadata": {},
   "outputs": [
    {
     "name": "stdout",
     "output_type": "stream",
     "text": [
      "Corrientes de transferencia\n",
      "\n",
      "I_10: 0.1586 ∠ 90.0°\n",
      "I_12: 0.1592 ∠ -8.9635°\n",
      "I_13: 0.0507 ∠ -5.3662°\n",
      "I_15: 0.2717 ∠ -2.7268°\n",
      "\n",
      "I_20: 0.1164 ∠ 83.7°\n",
      "I_21: 0.1592 ∠ 171.0365°\n",
      "I_24: 0.0481 ∠ -132.856°\n",
      "\n",
      "I_30: 0.1333 ∠ 87.8°\n",
      "I_31: 0.0507 ∠ 174.6338°\n",
      "I_34: 0.0749 ∠ -40.7259°\n",
      "\n",
      "I_40: 0.1699 ∠ 85.8°\n",
      "I_42: 0.0481 ∠ 47.144°\n",
      "I_43: 0.0749 ∠ 139.2741°\n",
      "I_45: 0.0735 ∠ 63.6024°\n",
      "\n",
      "I_50: 0.0796 ∠ 83.8°\n",
      "I_51: 0.2717 ∠ 177.2732°\n",
      "I_54: 0.0735 ∠ -116.3976°\n",
      "\n"
     ]
    }
   ],
   "source": [
    "print(\"Corrientes de transferencia\")\n",
    "print()\n",
    "for i in range(1,6):\n",
    "    print(\"I_\"+str(i)+str(0)+\":\", round(np.abs(I_t[i-1]),4), \"∠\", str(round(np.angle(I_t[i-1])*180/pi,4))+\"°\")\n",
    "    for k in range(1,6):\n",
    "        if i!=k and np.abs(I_ik[i-1,k-1]) > 0.00001:\n",
    "            print(\"I_\"+str(i)+str(k)+\":\", round(np.abs(I_ik[i-1,k-1]),4), \"∠\", str(round(np.angle(I_ik[i-1,k-1])*180/pi,4))+\"°\")\n",
    "    print()"
   ]
  },
  {
   "cell_type": "markdown",
   "id": "b51c2404-2aa8-41c5-81ab-a65dfd4b95ff",
   "metadata": {},
   "source": [
    "## Punto 7"
   ]
  },
  {
   "cell_type": "code",
   "execution_count": 66,
   "id": "9a9135fe-13c1-46ef-9484-282780c75599",
   "metadata": {},
   "outputs": [
    {
     "name": "stdout",
     "output_type": "stream",
     "text": [
      "Potencia de pérdidas a)\n",
      "(0.02512042981291686-0.5908904328263873j)\n",
      "\n",
      "Potencia de pérdidas b)\n",
      "(0.02512042981292051-0.590890432826387j)\n",
      "\n",
      "Potencia de pérdidas c)\n",
      "(0.02512042981291707-0.590890432826388j)\n",
      "\n",
      "Potencia de pérdidas d)\n",
      "(0.025120429812917087-0.5908904328263879j)\n"
     ]
    }
   ],
   "source": [
    "SL1 = np.dot(e,np.conjugate(IN))\n",
    "print(\"Potencia de pérdidas a)\")\n",
    "print(SL1)\n",
    "print()\n",
    "\n",
    "SL2 = sum(SN)\n",
    "print(\"Potencia de pérdidas b)\")\n",
    "print(SL2)\n",
    "print()\n",
    "\n",
    "SL3 = sum(S_t) + sum([sum([S_ik[i,k]+S_ik[k,i] for k in range(i+1,5)]) \\\n",
    "                      for i in range(4)])\n",
    "print(\"Potencia de pérdidas c)\")\n",
    "print(SL3)\n",
    "print()\n",
    "\n",
    "SL4 = sum([sum([abs(I_ik[i,k])**2*-1/(Y[i,k]) if (i!=k and Y[i,k]!=0) else 0 \\\n",
    "                for k in range(i+1,5)]) for i in range(4)]) \\\n",
    "    + sum([abs(I_t[i])**2/B[i] for i in range(5)])\n",
    "print(\"Potencia de pérdidas d)\")\n",
    "print(SL4)"
   ]
  }
 ],
 "metadata": {
  "kernelspec": {
   "display_name": "Python 3 (ipykernel)",
   "language": "python",
   "name": "python3"
  },
  "language_info": {
   "codemirror_mode": {
    "name": "ipython",
    "version": 3
   },
   "file_extension": ".py",
   "mimetype": "text/x-python",
   "name": "python",
   "nbconvert_exporter": "python",
   "pygments_lexer": "ipython3",
   "version": "3.9.13"
  }
 },
 "nbformat": 4,
 "nbformat_minor": 5
}

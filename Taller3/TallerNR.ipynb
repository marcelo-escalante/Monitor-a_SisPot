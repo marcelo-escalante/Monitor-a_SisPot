{
 "cells": [
  {
   "cell_type": "markdown",
   "id": "4cbdf845-460f-497a-b141-7701de2d7b5c",
   "metadata": {},
   "source": [
    "# Taller Flujo de Potencia con Newton-Raphson"
   ]
  },
  {
   "cell_type": "code",
   "execution_count": 5,
   "id": "6bd1e015-cbd6-4386-a120-33bd0f25c24f",
   "metadata": {},
   "outputs": [],
   "source": [
    "import numpy as np\n",
    "from numpy import sin, cos, pi"
   ]
  },
  {
   "cell_type": "code",
   "execution_count": 11,
   "id": "1b25351f-35f3-4e36-93ab-923b29c5a7e5",
   "metadata": {},
   "outputs": [],
   "source": [
    "z12 = 0.009+0.035j\n",
    "z13 = 0.01+0.04j\n",
    "z23 = 0.008 + 0.03j\n",
    "y12 = 1/z12\n",
    "y13 = 1/z13\n",
    "y21 = y12\n",
    "y23 = 1/z23\n",
    "y31 = y13\n",
    "y32 = y23\n",
    "\n",
    "Y = np.array([[y12+y13, -y12, -y13],\n",
    "              [-y21, y21+y23, -y23],\n",
    "              [-y31, -y32, y31+y32]])\n",
    "\n",
    "P2sch = 4.2\n",
    "P3sch = -6.1\n",
    "Q3sch = -3\n",
    "v1, v2, v3 = 1.01, 1.03, 1 # Tensiones iniciales\n",
    "ang1, ang2, ang3 = 0, 0, 0 # Ángulos iniciales\n",
    "\n",
    "v = np.array([v1, v2, v3])\n",
    "ang = np.array([ang1, ang2, ang3])"
   ]
  },
  {
   "cell_type": "code",
   "execution_count": 33,
   "id": "dbe3ab1f-f13b-4d9b-8cc3-12485635d423",
   "metadata": {},
   "outputs": [],
   "source": [
    "# Funciones para Newton-Raphson\n",
    "def P(v,Y,i):\n",
    "    return v[i-1]*sum([abs(Y[i-1,k])*v[k]*cos(np.angle(Y[i-1,k])-ang[i-1]+ang[k]) for k in range(len(v))])\n",
    "\n",
    "def Q(v,Y,i):\n",
    "    return -v[i-1]*sum([abs(Y[i-1,k])*v[k]*sin(np.angle(Y[i-1,k])-ang[i-1]+ang[k]) for k in range(len(v))])\n",
    "\n",
    "def dPdD(v,Y,i,k):\n",
    "    return v[i-1]*sum([v[k-1]*abs(Y[i-1,k-1])*sin(np.angle(Y[i-1,k-1])-ang[i-1]+ang[k-1]) for k in range(1,4) if k != i]) if i==k \\\n",
    "        else -v[i-1]*v[k-1]*abs(Y[i-1,k-1])*sin(np.angle(Y[i-1,k-1])-ang[i-1]+ang[k-1])\n",
    "\n",
    "def dPdV(v,Y,i,k):\n",
    "    return 2*v[i-1]*abs(Y[i-1,k-1])*cos(np.angle(Y[i-1,k-1]))+sum([v[k-1]*abs(Y[i-1,k-1])*cos(np.angle(Y[i-1,k-1])-ang[i-1]+ang[k-1]) for k in range(1,4) if k != i]) if i==k \\\n",
    "        else v[i-1]*v[k-1]*abs(Y[i-1,k-1])*cos(np.angle(Y[i-1,k-1])-ang[i-1]+ang[k-1])\n",
    "\n",
    "def dQdD(v,Y,i,k):\n",
    "    return v[i-1]*sum([v[k-1]*abs(Y[i-1,k-1])*cos(np.angle(Y[i-1,k-1])-ang[i-1]+ang[k-1]) for k in range(1,4) if k != i]) if i==k \\\n",
    "        else -v[i-1]*v[k-1]*abs(Y[i-1,k-1])*cos(np.angle(Y[i-1,k-1])-ang[i-1]+ang[k-1])\n",
    "    \n",
    "def dQdV(v,Y,i,k):\n",
    "    return -2*v[i-1]*abs(Y[i-1,k-1])*sin(np.angle(Y[i-1,k-1]))-sum([v[k-1]*abs(Y[i-1,k-1])*sin(np.angle(Y[i-1,k-1])-ang[i-1]+ang[k-1]) for k in range(1,4) if k != i]) if i==k \\\n",
    "        else -v[i-1]*v[k-1]*abs(Y[i-1,k-1])*sin(np.angle(Y[i-1,k-1])-ang[i-1]+ang[k-1])"
   ]
  },
  {
   "cell_type": "markdown",
   "id": "366e9465-314d-4d97-93b6-94f4ff9c254b",
   "metadata": {},
   "source": [
    "## Punto 1"
   ]
  },
  {
   "cell_type": "code",
   "execution_count": 12,
   "id": "e4ba444f-c9a3-4d05-9213-7576910c1310",
   "metadata": {},
   "outputs": [
    {
     "name": "stdout",
     "output_type": "stream",
     "text": [
      "Iteración: 0\n",
      "P2: 0.39839171903694187\n",
      "P3: -0.3077861850134198\n",
      "Q3: -1.1689040761532823\n",
      "ángulo v2: 0.0\n",
      "ángulo v3: 0.0\n",
      "voltaje v3: 1\n",
      "Error: 5.79221381498658\n",
      "\n",
      "Iteración: 1\n",
      "P2: 4.055904404313596\n",
      "P3: -5.699377772717299\n",
      "Q3: -2.6807520882758045\n",
      "ángulo v2: 0.6091014012030788\n",
      "ángulo v3: -4.763220970243675\n",
      "voltaje v3: 0.941540122267472\n",
      "Error: 0.40062222728270047\n",
      "\n",
      "Iteración: 2\n",
      "P2: 4.201389057538321\n",
      "P3: -6.095245409171732\n",
      "Q3: -2.995574275296306\n",
      "ángulo v2: 0.4636292578609864\n",
      "ángulo v3: -5.221825466396367\n",
      "voltaje v3: 0.9325297675812809\n",
      "Error: 0.004754590828267347\n",
      "\n",
      "Iteración: 3\n",
      "P2: 4.200043797670946\n",
      "P3: -6.099999194782361\n",
      "Q3: -2.999999145580604\n",
      "ángulo v2: 0.4575095645807756\n",
      "ángulo v3: -5.229799594890539\n",
      "voltaje v3: 0.9324077394213218\n",
      "Error: 4.379767094597753e-05\n",
      "\n"
     ]
    }
   ],
   "source": [
    "P2, P3, Q3 = P(v,Y,2), P(v,Y,3), Q(v,Y,3)\n",
    "delP2 = P2sch - P2\n",
    "delP3 = P3sch - P3\n",
    "delQ3 = Q3sch - Q3\n",
    "deltaPQ = np.array([delP2, delP3, delQ3])\n",
    "error = max(abs(deltaPQ))\n",
    "\n",
    "print(\"Iteración: 0\")\n",
    "print(\"P2:\",P2)\n",
    "print(\"P3:\",P3)\n",
    "print(\"Q3:\",Q3)\n",
    "print(\"ángulo v2:\", ang2*180/pi)\n",
    "print(\"ángulo v3:\", ang3*180/pi)\n",
    "print(\"voltaje v3:\",v3)\n",
    "print(\"Error:\",error)\n",
    "print()\n",
    "tol = 0.001\n",
    "i = 0\n",
    "\n",
    "while error > tol:\n",
    "    i+=1\n",
    "    J = np.array([[dPdD(v,Y,2,2), dPdD(v,Y,2,3), dPdV(v,Y,2,3)],\n",
    "                  [dPdD(v,Y,3,2), dPdD(v,Y,3,3), dPdV(v,Y,3,3)],\n",
    "                  [dQdD(v,Y,3,2), dQdD(v,Y,3,3), dQdV(v,Y,3,3)]])\n",
    "\n",
    "    delta_x = np.matmul(np.linalg.inv(J),deltaPQ)\n",
    "    delta2 = delta_x[0]\n",
    "    delta3 = delta_x[1]\n",
    "    deltav3 = delta_x[2]\n",
    "    ang2 += delta2\n",
    "    ang3 += delta3\n",
    "    v3 += deltav3\n",
    "    \n",
    "    v = np.array([v1, v2, v3])\n",
    "    ang = np.array([ang1, ang2, ang3])\n",
    "    \n",
    "    P2, P3, Q3 = P(v,Y,2), P(v,Y,3), Q(v,Y,3)\n",
    "    delP2 = P2sch - P2\n",
    "    delP3 = P3sch - P3\n",
    "    delQ3 = Q3sch - Q3\n",
    "    deltaPQ = np.array([delP2, delP3, delQ3])\n",
    "    error = max(abs(deltaPQ))\n",
    "    print(\"Iteración:\",i)\n",
    "    print(\"P2:\",P2)\n",
    "    print(\"P3:\",P3)\n",
    "    print(\"Q3:\",Q3)\n",
    "    print(\"ángulo v2:\", ang2*180/pi)\n",
    "    print(\"ángulo v3:\", ang3*180/pi)\n",
    "    print(\"voltaje v3:\",v3)\n",
    "    print(\"Error:\",error)\n",
    "    print()\n",
    "    "
   ]
  },
  {
   "cell_type": "code",
   "execution_count": 15,
   "id": "e4cc3c40-77db-44e3-bda6-be4c0f959e09",
   "metadata": {},
   "outputs": [
    {
     "name": "stdout",
     "output_type": "stream",
     "text": [
      "Resultados NR\n",
      "Número de iteraciones: 3\n",
      "Voltaje V1: 1.01\n",
      "Voltaje V2: 1.03\n",
      "Voltaje V3: 0.9324077394213218\n",
      "Ángulo V1: 0.0\n",
      "Ángulo V2: 0.4575095645807756\n",
      "Ángulo V3: -5.229799594890539\n",
      "P1: 2.142208306136961\n",
      "Q1: 0.9480477907764978\n",
      "P2: 4.200043797670946\n",
      "Q2: 2.98123018782394\n",
      "P3: -6.099999194782361\n",
      "Q3: -2.999999145580604\n",
      "Error: 4.379767094597753e-05\n"
     ]
    }
   ],
   "source": [
    "P1, Q1, Q2 = P(v,Y,1), Q(v,Y,1), Q(v,Y,2)\n",
    "print(\"Resultados NR\")\n",
    "print(\"Número de iteraciones:\",i)\n",
    "print(\"Voltaje V1:\",v1)\n",
    "print(\"Voltaje V2:\",v2)\n",
    "print(\"Voltaje V3:\",v3)\n",
    "print(\"Ángulo V1:\",ang1*180/pi)\n",
    "print(\"Ángulo V2:\",ang2*180/pi)\n",
    "print(\"Ángulo V3:\",ang3*180/pi)\n",
    "print(\"P1:\",P1)\n",
    "print(\"Q1:\",Q1)\n",
    "print(\"P2:\",P2)\n",
    "print(\"Q2:\",Q2)\n",
    "print(\"P3:\",P3)\n",
    "print(\"Q3:\",Q3)\n",
    "print(\"Error:\",error)"
   ]
  },
  {
   "cell_type": "code",
   "execution_count": 18,
   "id": "c0e471c0-94e1-40fc-b295-c92728caa848",
   "metadata": {},
   "outputs": [
    {
     "name": "stdout",
     "output_type": "stream",
     "text": [
      "Tensiones nodales\n",
      "1.01 ∠ 0.0°\n",
      "1.03 ∠ 0.45751°\n",
      "0.9324 ∠ -5.2298°\n",
      "\n"
     ]
    }
   ],
   "source": [
    "e = v * np.exp(1j*ang)\n",
    "\n",
    "print(\"Tensiones nodales\")\n",
    "for i in e:\n",
    "    print(\"{:.4} ∠ {:.5}°\".format(abs(i),np.angle(i)*180/pi))\n",
    "print()"
   ]
  },
  {
   "cell_type": "markdown",
   "id": "2ec947e0-60f3-44ab-a897-edc175eb0324",
   "metadata": {},
   "source": [
    "## Punto 2"
   ]
  },
  {
   "cell_type": "code",
   "execution_count": 34,
   "id": "85bc6aec-a074-4380-b2e8-6d7bf97322d0",
   "metadata": {},
   "outputs": [
    {
     "name": "stdout",
     "output_type": "stream",
     "text": [
      "Potencias generadas\n",
      "Generador 1: 5.1422+1.9480j\n",
      "Generador 2: 6.2000+3.4812j\n",
      "\n"
     ]
    }
   ],
   "source": [
    "e1, e2, e3 = e\n",
    "I12 = (e1-e2)*y12;\n",
    "I13 = (e1-e3)*y13;\n",
    "I21 = (e2-e1)*y21;\n",
    "I23 = (e2-e3)*y23;\n",
    "I31 = (e3-e1)*y31;\n",
    "I32 = (e3-e2)*y32;\n",
    "\n",
    "S12 = e1*I12.conjugate()\n",
    "S21 = e2*I21.conjugate()\n",
    "S13 = e1*I13.conjugate()\n",
    "S31 = e3*I31.conjugate()\n",
    "S23 = e2*I23.conjugate()\n",
    "S32 = e3*I32.conjugate()\n",
    "\n",
    "SG_1 = 3+1j + S12 + S13\n",
    "SG_2 = 2+0.5j + S21 + S23\n",
    "\n",
    "print(\"Potencias generadas\")\n",
    "print(\"Generador 1: {:.4f}\".format(SG_1))\n",
    "print(\"Generador 2: {:.4f}\".format(SG_2))\n",
    "print()"
   ]
  },
  {
   "cell_type": "markdown",
   "id": "09c08dfa-c823-4fa6-bdc7-641adc83d20e",
   "metadata": {},
   "source": [
    "## Punto 3"
   ]
  },
  {
   "cell_type": "code",
   "execution_count": 32,
   "id": "d1c4e713-144b-4a74-87a0-3c14e6967bf9",
   "metadata": {},
   "outputs": [
    {
     "name": "stdout",
     "output_type": "stream",
     "text": [
      "Potencia de pérdidas: 0.2423+0.9293j\n"
     ]
    }
   ],
   "source": [
    "# Potencia de pérdidas\n",
    "SL = sum(e * np.conjugate(Y @ e))\n",
    "print(\"Potencia de pérdidas: {:.4f}\".format(SL))"
   ]
  }
 ],
 "metadata": {
  "kernelspec": {
   "display_name": "Python 3 (ipykernel)",
   "language": "python",
   "name": "python3"
  },
  "language_info": {
   "codemirror_mode": {
    "name": "ipython",
    "version": 3
   },
   "file_extension": ".py",
   "mimetype": "text/x-python",
   "name": "python",
   "nbconvert_exporter": "python",
   "pygments_lexer": "ipython3",
   "version": "3.9.13"
  }
 },
 "nbformat": 4,
 "nbformat_minor": 5
}

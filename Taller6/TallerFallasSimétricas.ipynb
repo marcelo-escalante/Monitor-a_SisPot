{
 "cells": [
  {
   "cell_type": "markdown",
   "id": "2ba1e87c-89ae-4097-9e83-faf766bd3d4a",
   "metadata": {},
   "source": [
    "# Taller Fallas Simétricas"
   ]
  },
  {
   "cell_type": "code",
   "execution_count": 2,
   "id": "b1801b29-67d2-44a7-aa00-0d6fb4fbb133",
   "metadata": {},
   "outputs": [],
   "source": [
    "import numpy as np"
   ]
  },
  {
   "cell_type": "markdown",
   "id": "cf7db905-9cef-4b38-a259-ce8bccdf38f9",
   "metadata": {},
   "source": [
    "## a)"
   ]
  },
  {
   "cell_type": "code",
   "execution_count": 3,
   "id": "8943b966-2aea-40f8-8d1d-d9ee8cae4b85",
   "metadata": {},
   "outputs": [
    {
     "name": "stdout",
     "output_type": "stream",
     "text": [
      "[[0.+0.2135034j  0.+0.17804909j 0.+0.15700457j 0.+0.12688913j]\n",
      " [0.+0.17804909j 0.+0.26162142j 0.+0.18227985j 0.+0.15563587j]\n",
      " [0.+0.15700457j 0.+0.18227985j 0.+0.22798418j 0.+0.172699j  ]\n",
      " [0.+0.12688913j 0.+0.15563587j 0.+0.172699j   0.+0.19711692j]]\n"
     ]
    }
   ],
   "source": [
    "z10 = 0.37j\n",
    "z12 = 0.18j\n",
    "z13 = 0.25j\n",
    "z21 = z12\n",
    "z23 = 0.28j\n",
    "z24 = 0.42j\n",
    "z31 = z13\n",
    "z32 = z23\n",
    "z34 = 0.1j\n",
    "z40 = 0.3j\n",
    "z42 = z24\n",
    "z43 = z34\n",
    "\n",
    "y10, y12, y13, y14  = 1/z10, 1/z12, 1/z13, 0\n",
    "y20, y21, y23, y24 = 0, y12, 1/z23, 1/z24\n",
    "y30, y31, y32, y34 = 0, y13, y23, 1/z34\n",
    "y40, y41, y42, y43 = 1/z40, y14, y24, y34\n",
    "\n",
    "Y = np.array([[y10+y12+y13+y14, -y12, -y13, -y14],\n",
    "              [-y21, y20+y21+y23+y24, -y23, -y24],\n",
    "              [-y31, -y32, y30+y31+y32+y34, -y34],\n",
    "              [-y41, -y42, -y43, y40+y41+y42+y43]])\n",
    "\n",
    "Z = np.linalg.inv(Y)\n",
    "print(Z)"
   ]
  },
  {
   "cell_type": "markdown",
   "id": "c9db5d49-1c65-4094-97ed-dd962d1762fe",
   "metadata": {},
   "source": [
    "## b)"
   ]
  },
  {
   "cell_type": "code",
   "execution_count": 4,
   "id": "e6a4212a-78d1-4a3e-8b24-f496d9ea2fc2",
   "metadata": {},
   "outputs": [
    {
     "name": "stdout",
     "output_type": "stream",
     "text": [
      "Falla Nodo 2 (Zf = 0)\n",
      "If = -3.822317036732411j\n"
     ]
    }
   ],
   "source": [
    "# Falla rígida\n",
    "Zf1 = 0\n",
    "\n",
    "V0 = np.array([1,1,1,1]) # Tensiones de nodo se asumen 1p.u\n",
    "\n",
    "\n",
    "I2f = V0[1]/(Zf1+Z[1,1])\n",
    "\n",
    "print(\"Falla Nodo 2 (Zf = 0)\")\n",
    "print(\"If =\",I2f)"
   ]
  },
  {
   "cell_type": "markdown",
   "id": "a9724cd3-6246-4787-b76a-6e4a851526f0",
   "metadata": {},
   "source": [
    "## c)"
   ]
  },
  {
   "cell_type": "code",
   "execution_count": 5,
   "id": "48ff6adf-ab4c-4d86-a2bc-5c26dd52848c",
   "metadata": {},
   "outputs": [
    {
     "name": "stdout",
     "output_type": "stream",
     "text": [
      "V = [0.31943994+0.j 0.        +0.j 0.30326864+0.j 0.40511035+0.j]\n",
      "IG1 = -1.839351520155759j\n",
      "IG4 = -1.982965516576654j\n"
     ]
    }
   ],
   "source": [
    "Vf = V0-I2f*Z[:,1]\n",
    "print(\"V =\",Vf)\n",
    "\n",
    "I12 = (Vf[0]-Vf[1])/z12\n",
    "I13 = (Vf[0]-Vf[2])/z13\n",
    "I42 = (Vf[3]-Vf[1])/z42\n",
    "I43 = (Vf[3]-Vf[2])/z43\n",
    "\n",
    "IG1 = I12+I13\n",
    "IG4 = I42+I43\n",
    "print(\"IG1 =\",IG1)\n",
    "print(\"IG4 =\",IG4)"
   ]
  },
  {
   "cell_type": "markdown",
   "id": "175dbdc1-ad54-42a8-8ac9-dfd0c70e048b",
   "metadata": {},
   "source": [
    "## d)"
   ]
  },
  {
   "cell_type": "code",
   "execution_count": 6,
   "id": "02ce3725-2d42-4ff5-9228-03b9047a3ba6",
   "metadata": {},
   "outputs": [
    {
     "name": "stdout",
     "output_type": "stream",
     "text": [
      "Falla Nodo 3 (Zf = 0.12j)\n",
      "If = -2.873693863961903j\n",
      "Vf = [0.54881694+0.j 0.47618352+0.j 0.34484326+0.j 0.50371594+0.j]\n",
      "IG1 = -1.2194136776695266j\n",
      "IG4 = -1.6542801862923806j\n"
     ]
    }
   ],
   "source": [
    "Zf2 = 0.12j\n",
    "\n",
    "I3f = V0[2]/(Zf2+Z[2,2])\n",
    "print(\"Falla Nodo 3 (Zf = 0.12j)\")\n",
    "print(\"If =\",I3f)\n",
    "\n",
    "Vf = V0-I3f*Z[:,2]\n",
    "print(\"Vf =\",Vf)\n",
    "\n",
    "I12 = (Vf[0]-Vf[1])/z12\n",
    "I13 = (Vf[0]-Vf[2])/z13\n",
    "I42 = (Vf[3]-Vf[1])/z42\n",
    "I43 = (Vf[3]-Vf[2])/z43\n",
    "\n",
    "IG1 = I12+I13\n",
    "IG4 = I42+I43\n",
    "print(\"IG1 =\",IG1)\n",
    "print(\"IG4 =\",IG4)"
   ]
  }
 ],
 "metadata": {
  "kernelspec": {
   "display_name": "Python 3 (ipykernel)",
   "language": "python",
   "name": "python3"
  },
  "language_info": {
   "codemirror_mode": {
    "name": "ipython",
    "version": 3
   },
   "file_extension": ".py",
   "mimetype": "text/x-python",
   "name": "python",
   "nbconvert_exporter": "python",
   "pygments_lexer": "ipython3",
   "version": "3.9.13"
  }
 },
 "nbformat": 4,
 "nbformat_minor": 5
}

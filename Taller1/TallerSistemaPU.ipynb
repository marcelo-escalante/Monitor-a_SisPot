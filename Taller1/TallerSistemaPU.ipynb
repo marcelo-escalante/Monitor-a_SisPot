{
 "cells": [
  {
   "cell_type": "markdown",
   "id": "745fcf4b-f21b-4a86-b72d-314ea35310af",
   "metadata": {},
   "source": [
    "# Taller Sistema por unidad"
   ]
  },
  {
   "cell_type": "code",
   "execution_count": 4,
   "id": "052cf778-a633-4b1a-8bf6-85c4ed1f3df0",
   "metadata": {},
   "outputs": [],
   "source": [
    "import numpy as np\n",
    "from numpy import pi"
   ]
  },
  {
   "cell_type": "markdown",
   "id": "1397951c-328f-4d19-b26f-ed151c3ed413",
   "metadata": {},
   "source": [
    "## Punto 1"
   ]
  },
  {
   "cell_type": "code",
   "execution_count": 5,
   "id": "6808f1ee-0519-4c75-a2f5-aa58a133007a",
   "metadata": {},
   "outputs": [],
   "source": [
    "# Generador 1\n",
    "SbG1 = 100*10**6 \n",
    "VbG1 = 18*10**3 \n",
    "ZG1_1 = 0.06j \n",
    "ZbG1 = VbG1**2/SbG1 \n",
    "\n",
    "#Generador 2\n",
    "SbG2 = 75*10**6\n",
    "VbG2 = 20*10**3\n",
    "ZG2_1 = 0.08j\n",
    "ZbG2 = VbG2**2/SbG2\n",
    "\n",
    "# Transformador 1\n",
    "SbT1 = 100*10**6 \n",
    "ZT1_1 = 0.1j\n",
    "\n",
    "# Transformador 2\n",
    "SbT2 = 100*10**6\n",
    "ZT2_1 = 0.05j\n",
    "\n",
    "# Transformador 3\n",
    "SbT3 = 50*10**6\n",
    "ZT3_1 = 0.08j\n",
    "\n",
    "# Carga\n",
    "Scarga_1 = 60*10**6 #ohmios\n",
    "fp = 0.85 #atraso\n",
    "\n",
    "# Impedancias de transmisión (ohmios)\n",
    "ZL23b = 100j\n",
    "ZL25b = 80j\n",
    "ZL35b = 70j"
   ]
  },
  {
   "cell_type": "code",
   "execution_count": 9,
   "id": "6ed1817c-dbbd-47a8-af74-de6458b69da3",
   "metadata": {},
   "outputs": [
    {
     "name": "stdout",
     "output_type": "stream",
     "text": [
      "Impedancia Generador 1: 0.06j p.u\n",
      "Impedancia Generador 1: 0.1626j p.u\n",
      "\n",
      "Impedancia Transformador 1: 0.1235j p.u\n",
      "Impedancia Transformador 2: 0.06173j p.u\n",
      "Impedancia Transformador 3: 0.1975j p.u\n",
      "\n",
      "Impedancia Línea 2-3: 0.2551j p.u\n",
      "Impedancia Línea 2-5: 0.2041j p.u\n",
      "Impedancia Línea 3-5: 0.1786j p.u\n",
      "\n",
      "Impedancia de carga: (1.417+0.878j) p.u\n",
      "\n"
     ]
    }
   ],
   "source": [
    "# Región 1: Contiene el Generador 1 (Nodo 1)\n",
    "# Región 2: Contiene las líneas de transmisión (Nodos 2, 3, 5)\n",
    "# Región 3: Contiene el Generador 2 (Nodo 4)\n",
    "# región 4: Contiene la carga (Nodo 6)\n",
    "\n",
    "# Base del sistema\n",
    "V1base = 18*10**3\n",
    "Sbase = 100*10**6\n",
    "\n",
    "# Volatges base\n",
    "V2base = V1base*220/20\n",
    "V3base = V2base*18/220\n",
    "V4base = V2base*15/220\n",
    "\n",
    "# Impedancias base\n",
    "Z1base = V1base**2/Sbase\n",
    "Z2base = V2base**2/Sbase\n",
    "Z3base = V3base**2/Sbase\n",
    "Z4base = V4base**2/Sbase\n",
    "\n",
    "# Impedancia generadores p.u\n",
    "ZG1 = ZG1_1*ZbG1/Z1base\n",
    "ZG2 = ZG2_1*ZbG2/Z3base\n",
    "\n",
    "print(\"Impedancia Generador 1: {:.4} p.u\".format(ZG1)) \n",
    "print(\"Impedancia Generador 1: {:.4} p.u\".format(ZG2)) \n",
    "print()\n",
    "\n",
    "# Impedancia transformadores p.u\n",
    "ZT1 = ZT1_1*((220*10**3)**2/(100*10**6))/Z2base\n",
    "ZT2 = ZT2_1*((220*10**3)**2/(100*10**6))/Z2base\n",
    "ZT3 = ZT3_1*((220*10**3)**2/(50*10**6))/Z2base\n",
    "print(\"Impedancia Transformador 1: {:.4} p.u\".format(ZT1)) \n",
    "print(\"Impedancia Transformador 2: {:.4} p.u\".format(ZT2)) \n",
    "print(\"Impedancia Transformador 3: {:.4} p.u\".format(ZT3)) \n",
    "print()\n",
    "\n",
    "# Impedancia líneas de transmisión p.u\n",
    "ZL23 = ZL23b/Z2base\n",
    "ZL25 = ZL25b/Z2base\n",
    "ZL35 = ZL35b/Z2base\n",
    "print(\"Impedancia Línea 2-3: {:.4} p.u\".format(ZL23)) \n",
    "print(\"Impedancia Línea 2-5: {:.4} p.u\".format(ZL25))\n",
    "print(\"Impedancia Línea 3-5: {:.4} p.u\".format(ZL35))\n",
    "print()\n",
    "\n",
    "# Impedancia carga\n",
    "Scarga = Scarga_1/Sbase # p.u\n",
    "P = Scarga*fp\n",
    "Q = (Scarga**2-P**2)**0.5\n",
    "\n",
    "V6 = 1 \n",
    "Zcarga = abs(V6)**2/(P-Q*1j)\n",
    "print(\"Impedancia de carga: {:.4} p.u\".format(Zcarga))\n",
    "print()"
   ]
  },
  {
   "cell_type": "markdown",
   "id": "11103b5d-7993-4fec-b3c8-5b18ec4009f3",
   "metadata": {},
   "source": [
    "## Punto 2"
   ]
  },
  {
   "cell_type": "code",
   "execution_count": 4,
   "id": "8552efee-a16a-4271-8fb4-630ab009f610",
   "metadata": {},
   "outputs": [],
   "source": [
    "# Base del sistema\n",
    "Sbase = 100*10**3\n",
    "Vbase = 4.4*10**3\n",
    "\n",
    "Zbase = Vbase**2/Sbase\n",
    "Vr = 1\n",
    "\n",
    "ZL = 100j/Zbase"
   ]
  },
  {
   "cell_type": "markdown",
   "id": "6c7d271e-b712-404d-9923-d0f5e5511205",
   "metadata": {},
   "source": [
    "### a)"
   ]
  },
  {
   "cell_type": "code",
   "execution_count": 5,
   "id": "2a60163c-c6ea-4763-ae52-2f1c4ea02cc8",
   "metadata": {},
   "outputs": [
    {
     "name": "stdout",
     "output_type": "stream",
     "text": [
      "Impedancia línea: 0.5165j p.u\n",
      "\n",
      "Impedancia carga 1: (1.052-1.402j) p.u\n",
      "Impedancia carga 2: (0.81-0.3923j) p.u\n",
      "Impedancia carga 3: -0.75j p.u\n",
      "Impedancia carga 4: (-0+1j) p.u\n",
      "Impedancia carga 5: (0.81+0.3923j) p.u\n",
      "\n"
     ]
    }
   ],
   "source": [
    "fp2 = 0.9 # adelanto\n",
    "P2 = 100*10**3/Sbase\n",
    "S2 = P2/fp2\n",
    "Q2 = -S2*(1-fp2**2)**0.5\n",
    "\n",
    "fp3 = 0 # adelanto\n",
    "S3 = 133.33*10**3/Sbase\n",
    "P3 = S3*fp3\n",
    "Q3 = -S3*(1-fp3**2)**0.5\n",
    "\n",
    "fp4 = 0 # atraso\n",
    "S4 = 100*10**3/Sbase\n",
    "P4 = S4*fp4\n",
    "Q4 = S4*(1-fp4**2)**0.5\n",
    "\n",
    "fp5 = 0.9 # atraso\n",
    "P5 = 100*10**3/Sbase\n",
    "S5 = P5/fp5\n",
    "Q5 = S5*(1-fp5**2)**0.5\n",
    "\n",
    "Z2 = abs(Vr)**2/(P2-Q2*1j)\n",
    "Z3 = abs(Vr)**2/(P3-Q3*1j)\n",
    "Z4 = abs(Vr)**2/(P4-Q4*1j)\n",
    "Z5 = abs(Vr)**2/(P5-Q5*1j)\n",
    "\n",
    "I2, I3, I4, I5 = [Vr/Z for Z in [Z2,Z3,Z4,Z5]]\n",
    "\n",
    "IL = I2+I3+I4+I5\n",
    "\n",
    "Vs = IL*ZL+Vr\n",
    "\n",
    "S1 = 100*10**3/Sbase\n",
    "fp1 = 0.6 # adelanto\n",
    "P1 = S1*fp1\n",
    "Q1 = -S1*(1-fp1**2)**0.5\n",
    "\n",
    "Z1 = abs(Vs)**2/(P1-Q1*1j)\n",
    "\n",
    "print(\"Impedancia línea: {:.4} p.u\".format(ZL))\n",
    "print()\n",
    "\n",
    "for i, Z in zip(range(1,6), [Z1,Z2,Z3,Z4,Z5]):\n",
    "    print(\"Impedancia carga {}: {:.4} p.u\".format(i,Z)) \n",
    "print()"
   ]
  },
  {
   "cell_type": "markdown",
   "id": "ac2b778e-4d70-44bc-8dd8-f4579acc7ba6",
   "metadata": {},
   "source": [
    "### b)"
   ]
  },
  {
   "cell_type": "code",
   "execution_count": 6,
   "id": "b15429eb-48e2-42d4-9f73-663b1e0bad4d",
   "metadata": {},
   "outputs": [
    {
     "name": "stdout",
     "output_type": "stream",
     "text": [
      "Tensión en Vs:  1.324  ∠ 51.293°\n",
      "\n"
     ]
    }
   ],
   "source": [
    "print(\"Tensión en Vs:  {:.4}  ∠ {:.5}°\".format(abs(Vs),np.angle(Vs)*180/pi))\n",
    "print()"
   ]
  },
  {
   "cell_type": "code",
   "execution_count": 7,
   "id": "4618f100-e5af-4075-9562-612748baef31",
   "metadata": {},
   "outputs": [
    {
     "name": "stdout",
     "output_type": "stream",
     "text": [
      "Corriente de alimentación:  2.102  ∠ 30.444°\n",
      "\n"
     ]
    }
   ],
   "source": [
    "I1 = Vs/Z1\n",
    "\n",
    "Ia = I1+IL\n",
    "\n",
    "print(\"Corriente de alimentación:  {:.4}  ∠ {:.5}°\".format(abs(Ia),np.angle(Ia)*180/pi))\n",
    "print()"
   ]
  },
  {
   "cell_type": "code",
   "execution_count": 8,
   "id": "7f82da84-845c-4b38-921b-410bce1cca7d",
   "metadata": {},
   "outputs": [
    {
     "name": "stdout",
     "output_type": "stream",
     "text": [
      "Potencia suministrada: (2.6+0.9902j) p.u\n",
      "\n"
     ]
    }
   ],
   "source": [
    "Sa = Vs*IL.conjugate()+Vs*I1.conjugate()\n",
    "\n",
    "print(\"Potencia suministrada: {:.4} p.u\".format(Sa))\n",
    "print()"
   ]
  },
  {
   "cell_type": "code",
   "execution_count": 9,
   "id": "7ef7981c-324e-44c9-bd58-a16005ee1925",
   "metadata": {},
   "outputs": [
    {
     "name": "stdout",
     "output_type": "stream",
     "text": [
      "Potencia reactiva conectada para un fp=1: 0.9902 p.u\n",
      "\n",
      "Comprobación\n",
      "Ángulo de la nueva corriente suministrada: 51.293°\n"
     ]
    }
   ],
   "source": [
    "nuevo_fp = 1\n",
    "Pa, Qa = np.real(Sa), np.imag(Sa)\n",
    "thetap = np.arccos(nuevo_fp)\n",
    "Qp = Pa*np.tan(thetap)\n",
    "Qc = Qa-Qp\n",
    "\n",
    "print(\"Potencia reactiva conectada para un fp=1: {:.4} p.u\".format(Qc))\n",
    "print()\n",
    "\n",
    "# Comprobación\n",
    "Zc = abs(Vs)**2/(Qc*1j) # Impedancia conectada\n",
    "Ia2 = I1+IL+Vs/Zc\n",
    "print(\"Comprobación\")\n",
    "print(\"Ángulo de la nueva corriente suministrada: {:.5}°\".format(np.angle(Ia2)*180/pi))"
   ]
  }
 ],
 "metadata": {
  "kernelspec": {
   "display_name": "Python 3 (ipykernel)",
   "language": "python",
   "name": "python3"
  },
  "language_info": {
   "codemirror_mode": {
    "name": "ipython",
    "version": 3
   },
   "file_extension": ".py",
   "mimetype": "text/x-python",
   "name": "python",
   "nbconvert_exporter": "python",
   "pygments_lexer": "ipython3",
   "version": "3.9.13"
  }
 },
 "nbformat": 4,
 "nbformat_minor": 5
}
